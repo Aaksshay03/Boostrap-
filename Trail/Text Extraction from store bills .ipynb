{
 "cells": [
  {
   "cell_type": "code",
   "execution_count": 1,
   "id": "1cd2cd93-3ea2-41ce-bb72-fe617e519cb3",
   "metadata": {},
   "outputs": [],
   "source": [
    "import cv2\n",
    "import pytesseract\n",
    "from PIL import Image\n",
    "\n"
   ]
  },
  {
   "cell_type": "code",
   "execution_count": 26,
   "id": "e455bca7-9f6b-42a1-8471-4746c8dd5166",
   "metadata": {},
   "outputs": [],
   "source": [
    "# Install Tesseract OCR and add its path to your system PATH\n",
    "# You can download Tesseract from: https://github.com/tesseract-ocr/tesseract\n",
    "\n",
    "# Set the path to the Tesseract executable\n",
    "pytesseract.pytesseract.tesseract_cmd = r'C:\\Program Files\\Tesseract-OCR\\\\tesseract.exe'\n",
    "\n",
    "# Load the image using OpenCV\n",
    "image_path = r'C:\\Users\\Lenovo\\OneDrive\\Desktop\\Trail\\InvoicesZip (1)\\Invoices\\Invoice1.jpeg'\n",
    "\n"
   ]
  },
  {
   "cell_type": "code",
   "execution_count": 27,
   "id": "5dd44827-0ff9-4955-b001-a1d09259debe",
   "metadata": {},
   "outputs": [],
   "source": [
    "# Read the image using OpenCV\n",
    "image = cv2.imread(image_path)\n"
   ]
  },
  {
   "cell_type": "code",
   "execution_count": 28,
   "id": "f4895e63-095b-4393-b147-a3d795f11390",
   "metadata": {},
   "outputs": [],
   "source": [
    "# Convert the image to grayscale\n",
    "gray_image = cv2.cvtColor(image, cv2.COLOR_BGR2GRAY)\n"
   ]
  },
  {
   "cell_type": "code",
   "execution_count": 29,
   "id": "060c0173-4f68-4c91-953d-48f72902223d",
   "metadata": {},
   "outputs": [
    {
     "name": "stdout",
     "output_type": "stream",
     "text": [
      "Extracted Text:\n",
      "FSSAT NO. +1301701400086%\n",
      "\n",
      "DMART S D ROAD\n",
      "112, SARDJINE DEVE ROAD\n",
      "SECUNDERABAD\n",
      "\n",
      "_. ea wot “2771804 T—\n",
      "AX INVOICE\n",
      "\n",
      "Bill No: 12023. 019447) Bi! Dt:\n",
      "$142023-0133 Cashier :\n",
      "\n",
      "You. Na,7\n",
      "ay Ioulara\n",
      "\n",
      "1) costo ¥- 00%\n",
      "330499 NIVEA SHIN ME-4u0n!\n",
      "340540 VIM BAR Sux200- ‘800g d\n",
      "\n",
      "~ Value\n",
      "\n",
      "265.00 266.6:\n",
      "60.00 400.¢\n",
      "\n",
      "506-00\n",
      "\n",
      "Items: a ay: 6\n",
      "\n",
      "Soveweenene GST Breakup Detalls > (eat THK)\n",
      "GST Taxable Cust. = «SaST CESS Total\n",
      "IND Amount Amount\n",
      "1 478,82 43,09 48,09 BB.\n",
      "7: Kenn nn Ayjount: Received 1 Fran Cust = . +\n",
      "\n",
      "rere it it}\n",
      "\n",
      "This 1s computer generated ifvatee,\n",
      "\n",
      "siadutatteteieteteeteadeeee\n",
      "\n",
      "date/Time : 2022-12- 19116:\n",
      "CARD NUM $ XAXxxxxxxKax67 ive\n",
      "‘ARD TYPE ; VI8A\n",
      "\n",
      "PPR CODE ; 366096 x ~\n",
      "RON + AOnNnnhiAgaT™:\n",
      "\n"
     ]
    }
   ],
   "source": [
    "# Apply thresholding to preprocess the image\n",
    "_, threshold_image = cv2.threshold(gray_image, 150, 255, cv2.THRESH_BINARY)\n",
    "\n",
    "# Use the Pillow library to convert the image to text using Tesseract\n",
    "text = pytesseract.image_to_string(Image.fromarray(threshold_image))\n",
    "\n",
    "# Print the extracted text\n",
    "print(\"Extracted Text:\")\n",
    "print(text)"
   ]
  },
  {
   "cell_type": "code",
   "execution_count": 30,
   "id": "1cb434cd-c933-4ab4-8d01-8d61495f4124",
   "metadata": {},
   "outputs": [
    {
     "name": "stdout",
     "output_type": "stream",
     "text": [
      "Collecting opencv-pythonNote: you may need to restart the kernel to use updated packages.\n"
     ]
    },
    {
     "name": "stderr",
     "output_type": "stream",
     "text": [
      "ERROR: Could not install packages due to an OSError: [WinError 5] Access is denied: 'C:\\\\Users\\\\Lenovo\\\\anaconda3\\\\envs\\\\Project\\\\Lib\\\\site-packages\\\\cv2\\\\cv2.pyd'\n",
      "Consider using the `--user` option or check the permissions.\n",
      "\n"
     ]
    },
    {
     "name": "stdout",
     "output_type": "stream",
     "text": [
      "\n",
      "  Using cached opencv_python-4.8.1.78-cp37-abi3-win_amd64.whl.metadata (20 kB)\n",
      "Requirement already satisfied: numpy>=1.21.2 in c:\\users\\lenovo\\anaconda3\\envs\\project\\lib\\site-packages (from opencv-python) (1.26.2)\n",
      "Using cached opencv_python-4.8.1.78-cp37-abi3-win_amd64.whl (38.1 MB)\n",
      "Installing collected packages: opencv-python\n"
     ]
    }
   ],
   "source": [
    "pip install opencv-python\n"
   ]
  },
  {
   "cell_type": "code",
   "execution_count": null,
   "id": "1ec9d469-94d7-4f02-b39a-10dc7f18cd0f",
   "metadata": {},
   "outputs": [],
   "source": []
  },
  {
   "cell_type": "code",
   "execution_count": null,
   "id": "960c5612-5e35-4396-88c5-54cabd8fc26c",
   "metadata": {},
   "outputs": [],
   "source": []
  }
 ],
 "metadata": {
  "kernelspec": {
   "display_name": "Python 3 (ipykernel)",
   "language": "python",
   "name": "python3"
  },
  "language_info": {
   "codemirror_mode": {
    "name": "ipython",
    "version": 3
   },
   "file_extension": ".py",
   "mimetype": "text/x-python",
   "name": "python",
   "nbconvert_exporter": "python",
   "pygments_lexer": "ipython3",
   "version": "3.11.5"
  }
 },
 "nbformat": 4,
 "nbformat_minor": 5
}
