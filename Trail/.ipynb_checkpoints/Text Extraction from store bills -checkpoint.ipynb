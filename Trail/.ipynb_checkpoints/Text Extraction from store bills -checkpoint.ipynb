{
 "cells": [
  {
   "cell_type": "code",
   "execution_count": 1,
   "id": "1cd2cd93-3ea2-41ce-bb72-fe617e519cb3",
   "metadata": {},
   "outputs": [
    {
     "ename": "TesseractNotFoundError",
     "evalue": "C:\\Program Files\\Tesseract-OCR\\tesseract.exe is not installed or it's not in your PATH. See README file for more information.",
     "output_type": "error",
     "traceback": [
      "\u001b[1;31m---------------------------------------------------------------------------\u001b[0m",
      "\u001b[1;31mFileNotFoundError\u001b[0m                         Traceback (most recent call last)",
      "File \u001b[1;32m~\\anaconda3\\envs\\Project\\Lib\\site-packages\\pytesseract\\pytesseract.py:255\u001b[0m, in \u001b[0;36mrun_tesseract\u001b[1;34m(input_filename, output_filename_base, extension, lang, config, nice, timeout)\u001b[0m\n\u001b[0;32m    254\u001b[0m \u001b[38;5;28;01mtry\u001b[39;00m:\n\u001b[1;32m--> 255\u001b[0m     proc \u001b[38;5;241m=\u001b[39m subprocess\u001b[38;5;241m.\u001b[39mPopen(cmd_args, \u001b[38;5;241m*\u001b[39m\u001b[38;5;241m*\u001b[39msubprocess_args())\n\u001b[0;32m    256\u001b[0m \u001b[38;5;28;01mexcept\u001b[39;00m \u001b[38;5;167;01mOSError\u001b[39;00m \u001b[38;5;28;01mas\u001b[39;00m e:\n",
      "File \u001b[1;32m~\\anaconda3\\envs\\Project\\Lib\\subprocess.py:1026\u001b[0m, in \u001b[0;36mPopen.__init__\u001b[1;34m(self, args, bufsize, executable, stdin, stdout, stderr, preexec_fn, close_fds, shell, cwd, env, universal_newlines, startupinfo, creationflags, restore_signals, start_new_session, pass_fds, user, group, extra_groups, encoding, errors, text, umask, pipesize, process_group)\u001b[0m\n\u001b[0;32m   1023\u001b[0m             \u001b[38;5;28mself\u001b[39m\u001b[38;5;241m.\u001b[39mstderr \u001b[38;5;241m=\u001b[39m io\u001b[38;5;241m.\u001b[39mTextIOWrapper(\u001b[38;5;28mself\u001b[39m\u001b[38;5;241m.\u001b[39mstderr,\n\u001b[0;32m   1024\u001b[0m                     encoding\u001b[38;5;241m=\u001b[39mencoding, errors\u001b[38;5;241m=\u001b[39merrors)\n\u001b[1;32m-> 1026\u001b[0m     \u001b[38;5;28mself\u001b[39m\u001b[38;5;241m.\u001b[39m_execute_child(args, executable, preexec_fn, close_fds,\n\u001b[0;32m   1027\u001b[0m                         pass_fds, cwd, env,\n\u001b[0;32m   1028\u001b[0m                         startupinfo, creationflags, shell,\n\u001b[0;32m   1029\u001b[0m                         p2cread, p2cwrite,\n\u001b[0;32m   1030\u001b[0m                         c2pread, c2pwrite,\n\u001b[0;32m   1031\u001b[0m                         errread, errwrite,\n\u001b[0;32m   1032\u001b[0m                         restore_signals,\n\u001b[0;32m   1033\u001b[0m                         gid, gids, uid, umask,\n\u001b[0;32m   1034\u001b[0m                         start_new_session, process_group)\n\u001b[0;32m   1035\u001b[0m \u001b[38;5;28;01mexcept\u001b[39;00m:\n\u001b[0;32m   1036\u001b[0m     \u001b[38;5;66;03m# Cleanup if the child failed starting.\u001b[39;00m\n",
      "File \u001b[1;32m~\\anaconda3\\envs\\Project\\Lib\\subprocess.py:1538\u001b[0m, in \u001b[0;36mPopen._execute_child\u001b[1;34m(self, args, executable, preexec_fn, close_fds, pass_fds, cwd, env, startupinfo, creationflags, shell, p2cread, p2cwrite, c2pread, c2pwrite, errread, errwrite, unused_restore_signals, unused_gid, unused_gids, unused_uid, unused_umask, unused_start_new_session, unused_process_group)\u001b[0m\n\u001b[0;32m   1537\u001b[0m \u001b[38;5;28;01mtry\u001b[39;00m:\n\u001b[1;32m-> 1538\u001b[0m     hp, ht, pid, tid \u001b[38;5;241m=\u001b[39m _winapi\u001b[38;5;241m.\u001b[39mCreateProcess(executable, args,\n\u001b[0;32m   1539\u001b[0m                              \u001b[38;5;66;03m# no special security\u001b[39;00m\n\u001b[0;32m   1540\u001b[0m                              \u001b[38;5;28;01mNone\u001b[39;00m, \u001b[38;5;28;01mNone\u001b[39;00m,\n\u001b[0;32m   1541\u001b[0m                              \u001b[38;5;28mint\u001b[39m(\u001b[38;5;129;01mnot\u001b[39;00m close_fds),\n\u001b[0;32m   1542\u001b[0m                              creationflags,\n\u001b[0;32m   1543\u001b[0m                              env,\n\u001b[0;32m   1544\u001b[0m                              cwd,\n\u001b[0;32m   1545\u001b[0m                              startupinfo)\n\u001b[0;32m   1546\u001b[0m \u001b[38;5;28;01mfinally\u001b[39;00m:\n\u001b[0;32m   1547\u001b[0m     \u001b[38;5;66;03m# Child is launched. Close the parent's copy of those pipe\u001b[39;00m\n\u001b[0;32m   1548\u001b[0m     \u001b[38;5;66;03m# handles that only the child should have open.  You need\u001b[39;00m\n\u001b[1;32m   (...)\u001b[0m\n\u001b[0;32m   1551\u001b[0m     \u001b[38;5;66;03m# pipe will not close when the child process exits and the\u001b[39;00m\n\u001b[0;32m   1552\u001b[0m     \u001b[38;5;66;03m# ReadFile will hang.\u001b[39;00m\n",
      "\u001b[1;31mFileNotFoundError\u001b[0m: [WinError 2] The system cannot find the file specified",
      "\nDuring handling of the above exception, another exception occurred:\n",
      "\u001b[1;31mTesseractNotFoundError\u001b[0m                    Traceback (most recent call last)",
      "Cell \u001b[1;32mIn[1], line 24\u001b[0m\n\u001b[0;32m     21\u001b[0m _, threshold_image \u001b[38;5;241m=\u001b[39m cv2\u001b[38;5;241m.\u001b[39mthreshold(gray_image, \u001b[38;5;241m150\u001b[39m, \u001b[38;5;241m255\u001b[39m, cv2\u001b[38;5;241m.\u001b[39mTHRESH_BINARY)\n\u001b[0;32m     23\u001b[0m \u001b[38;5;66;03m# Use the Pillow library to convert the image to text using Tesseract\u001b[39;00m\n\u001b[1;32m---> 24\u001b[0m text \u001b[38;5;241m=\u001b[39m pytesseract\u001b[38;5;241m.\u001b[39mimage_to_string(Image\u001b[38;5;241m.\u001b[39mfromarray(threshold_image))\n\u001b[0;32m     26\u001b[0m \u001b[38;5;66;03m# Print the extracted text\u001b[39;00m\n\u001b[0;32m     27\u001b[0m \u001b[38;5;28mprint\u001b[39m(\u001b[38;5;124m\"\u001b[39m\u001b[38;5;124mExtracted Text:\u001b[39m\u001b[38;5;124m\"\u001b[39m)\n",
      "File \u001b[1;32m~\\anaconda3\\envs\\Project\\Lib\\site-packages\\pytesseract\\pytesseract.py:423\u001b[0m, in \u001b[0;36mimage_to_string\u001b[1;34m(image, lang, config, nice, output_type, timeout)\u001b[0m\n\u001b[0;32m    418\u001b[0m \u001b[38;5;250m\u001b[39m\u001b[38;5;124;03m\"\"\"\u001b[39;00m\n\u001b[0;32m    419\u001b[0m \u001b[38;5;124;03mReturns the result of a Tesseract OCR run on the provided image to string\u001b[39;00m\n\u001b[0;32m    420\u001b[0m \u001b[38;5;124;03m\"\"\"\u001b[39;00m\n\u001b[0;32m    421\u001b[0m args \u001b[38;5;241m=\u001b[39m [image, \u001b[38;5;124m'\u001b[39m\u001b[38;5;124mtxt\u001b[39m\u001b[38;5;124m'\u001b[39m, lang, config, nice, timeout]\n\u001b[1;32m--> 423\u001b[0m \u001b[38;5;28;01mreturn\u001b[39;00m {\n\u001b[0;32m    424\u001b[0m     Output\u001b[38;5;241m.\u001b[39mBYTES: \u001b[38;5;28;01mlambda\u001b[39;00m: run_and_get_output(\u001b[38;5;241m*\u001b[39m(args \u001b[38;5;241m+\u001b[39m [\u001b[38;5;28;01mTrue\u001b[39;00m])),\n\u001b[0;32m    425\u001b[0m     Output\u001b[38;5;241m.\u001b[39mDICT: \u001b[38;5;28;01mlambda\u001b[39;00m: {\u001b[38;5;124m'\u001b[39m\u001b[38;5;124mtext\u001b[39m\u001b[38;5;124m'\u001b[39m: run_and_get_output(\u001b[38;5;241m*\u001b[39margs)},\n\u001b[0;32m    426\u001b[0m     Output\u001b[38;5;241m.\u001b[39mSTRING: \u001b[38;5;28;01mlambda\u001b[39;00m: run_and_get_output(\u001b[38;5;241m*\u001b[39margs),\n\u001b[0;32m    427\u001b[0m }[output_type]()\n",
      "File \u001b[1;32m~\\anaconda3\\envs\\Project\\Lib\\site-packages\\pytesseract\\pytesseract.py:426\u001b[0m, in \u001b[0;36mimage_to_string.<locals>.<lambda>\u001b[1;34m()\u001b[0m\n\u001b[0;32m    418\u001b[0m \u001b[38;5;250m\u001b[39m\u001b[38;5;124;03m\"\"\"\u001b[39;00m\n\u001b[0;32m    419\u001b[0m \u001b[38;5;124;03mReturns the result of a Tesseract OCR run on the provided image to string\u001b[39;00m\n\u001b[0;32m    420\u001b[0m \u001b[38;5;124;03m\"\"\"\u001b[39;00m\n\u001b[0;32m    421\u001b[0m args \u001b[38;5;241m=\u001b[39m [image, \u001b[38;5;124m'\u001b[39m\u001b[38;5;124mtxt\u001b[39m\u001b[38;5;124m'\u001b[39m, lang, config, nice, timeout]\n\u001b[0;32m    423\u001b[0m \u001b[38;5;28;01mreturn\u001b[39;00m {\n\u001b[0;32m    424\u001b[0m     Output\u001b[38;5;241m.\u001b[39mBYTES: \u001b[38;5;28;01mlambda\u001b[39;00m: run_and_get_output(\u001b[38;5;241m*\u001b[39m(args \u001b[38;5;241m+\u001b[39m [\u001b[38;5;28;01mTrue\u001b[39;00m])),\n\u001b[0;32m    425\u001b[0m     Output\u001b[38;5;241m.\u001b[39mDICT: \u001b[38;5;28;01mlambda\u001b[39;00m: {\u001b[38;5;124m'\u001b[39m\u001b[38;5;124mtext\u001b[39m\u001b[38;5;124m'\u001b[39m: run_and_get_output(\u001b[38;5;241m*\u001b[39margs)},\n\u001b[1;32m--> 426\u001b[0m     Output\u001b[38;5;241m.\u001b[39mSTRING: \u001b[38;5;28;01mlambda\u001b[39;00m: run_and_get_output(\u001b[38;5;241m*\u001b[39margs),\n\u001b[0;32m    427\u001b[0m }[output_type]()\n",
      "File \u001b[1;32m~\\anaconda3\\envs\\Project\\Lib\\site-packages\\pytesseract\\pytesseract.py:288\u001b[0m, in \u001b[0;36mrun_and_get_output\u001b[1;34m(image, extension, lang, config, nice, timeout, return_bytes)\u001b[0m\n\u001b[0;32m    277\u001b[0m \u001b[38;5;28;01mwith\u001b[39;00m save(image) \u001b[38;5;28;01mas\u001b[39;00m (temp_name, input_filename):\n\u001b[0;32m    278\u001b[0m     kwargs \u001b[38;5;241m=\u001b[39m {\n\u001b[0;32m    279\u001b[0m         \u001b[38;5;124m'\u001b[39m\u001b[38;5;124minput_filename\u001b[39m\u001b[38;5;124m'\u001b[39m: input_filename,\n\u001b[0;32m    280\u001b[0m         \u001b[38;5;124m'\u001b[39m\u001b[38;5;124moutput_filename_base\u001b[39m\u001b[38;5;124m'\u001b[39m: temp_name,\n\u001b[1;32m   (...)\u001b[0m\n\u001b[0;32m    285\u001b[0m         \u001b[38;5;124m'\u001b[39m\u001b[38;5;124mtimeout\u001b[39m\u001b[38;5;124m'\u001b[39m: timeout,\n\u001b[0;32m    286\u001b[0m     }\n\u001b[1;32m--> 288\u001b[0m     run_tesseract(\u001b[38;5;241m*\u001b[39m\u001b[38;5;241m*\u001b[39mkwargs)\n\u001b[0;32m    289\u001b[0m     filename \u001b[38;5;241m=\u001b[39m \u001b[38;5;124mf\u001b[39m\u001b[38;5;124m\"\u001b[39m\u001b[38;5;132;01m{\u001b[39;00mkwargs[\u001b[38;5;124m'\u001b[39m\u001b[38;5;124moutput_filename_base\u001b[39m\u001b[38;5;124m'\u001b[39m]\u001b[38;5;132;01m}\u001b[39;00m\u001b[38;5;132;01m{\u001b[39;00mextsep\u001b[38;5;132;01m}\u001b[39;00m\u001b[38;5;132;01m{\u001b[39;00mextension\u001b[38;5;132;01m}\u001b[39;00m\u001b[38;5;124m\"\u001b[39m\n\u001b[0;32m    290\u001b[0m     \u001b[38;5;28;01mwith\u001b[39;00m \u001b[38;5;28mopen\u001b[39m(filename, \u001b[38;5;124m'\u001b[39m\u001b[38;5;124mrb\u001b[39m\u001b[38;5;124m'\u001b[39m) \u001b[38;5;28;01mas\u001b[39;00m output_file:\n",
      "File \u001b[1;32m~\\anaconda3\\envs\\Project\\Lib\\site-packages\\pytesseract\\pytesseract.py:260\u001b[0m, in \u001b[0;36mrun_tesseract\u001b[1;34m(input_filename, output_filename_base, extension, lang, config, nice, timeout)\u001b[0m\n\u001b[0;32m    258\u001b[0m         \u001b[38;5;28;01mraise\u001b[39;00m\n\u001b[0;32m    259\u001b[0m     \u001b[38;5;28;01melse\u001b[39;00m:\n\u001b[1;32m--> 260\u001b[0m         \u001b[38;5;28;01mraise\u001b[39;00m TesseractNotFoundError()\n\u001b[0;32m    262\u001b[0m \u001b[38;5;28;01mwith\u001b[39;00m timeout_manager(proc, timeout) \u001b[38;5;28;01mas\u001b[39;00m error_string:\n\u001b[0;32m    263\u001b[0m     \u001b[38;5;28;01mif\u001b[39;00m proc\u001b[38;5;241m.\u001b[39mreturncode:\n",
      "\u001b[1;31mTesseractNotFoundError\u001b[0m: C:\\Program Files\\Tesseract-OCR\\tesseract.exe is not installed or it's not in your PATH. See README file for more information."
     ]
    }
   ],
   "source": [
    "import cv2\n",
    "import pytesseract\n",
    "from PIL import Image\n",
    "\n",
    "# Install Tesseract OCR and add its path to your system PATH\n",
    "# You can download Tesseract from: https://github.com/tesseract-ocr/tesseract\n",
    "\n",
    "# Set the path to the Tesseract executable\n",
    "pytesseract.pytesseract.tesseract_cmd = r'C:\\Program Files\\Tesseract-OCR\\tesseract.exe'\n",
    "\n",
    "# Load the image using OpenCV\n",
    "image_path = r'C:\\Users\\Lenovo\\OneDrive\\Desktop\\Trail\\InvoicesZip (1)\\Invoices\\Invoice9.jpeg'\n",
    "\n",
    "# Read the image using OpenCV\n",
    "image = cv2.imread(image_path)\n",
    "\n",
    "# Convert the image to grayscale\n",
    "gray_image = cv2.cvtColor(image, cv2.COLOR_BGR2GRAY)\n",
    "\n",
    "# Apply thresholding to preprocess the image\n",
    "_, threshold_image = cv2.threshold(gray_image, 150, 255, cv2.THRESH_BINARY)\n",
    "\n",
    "# Use the Pillow library to convert the image to text using Tesseract\n",
    "text = pytesseract.image_to_string(Image.fromarray(threshold_image))\n",
    "\n",
    "# Print the extracted text\n",
    "print(\"Extracted Text:\")\n",
    "print(text)\n"
   ]
  },
  {
   "cell_type": "code",
   "execution_count": 6,
   "id": "1cb434cd-c933-4ab4-8d01-8d61495f4124",
   "metadata": {},
   "outputs": [
    {
     "name": "stdout",
     "output_type": "stream",
     "text": [
      "Collecting opencv-python\n",
      "  Downloading opencv_python-4.8.1.78-cp37-abi3-win_amd64.whl.metadata (20 kB)\n",
      "Requirement already satisfied: numpy>=1.21.2 in c:\\users\\lenovo\\anaconda3\\envs\\project\\lib\\site-packages (from opencv-python) (1.26.2)\n",
      "Downloading opencv_python-4.8.1.78-cp37-abi3-win_amd64.whl (38.1 MB)\n",
      "   ---------------------------------------- 0.0/38.1 MB ? eta -:--:--\n",
      "   ---------------------------------------- 0.1/38.1 MB 2.3 MB/s eta 0:00:17\n",
      "   ---------------------------------------- 0.2/38.1 MB 2.5 MB/s eta 0:00:16\n",
      "    --------------------------------------- 0.5/38.1 MB 3.9 MB/s eta 0:00:10\n",
      "    --------------------------------------- 0.9/38.1 MB 5.2 MB/s eta 0:00:08\n",
      "   - -------------------------------------- 1.5/38.1 MB 6.7 MB/s eta 0:00:06\n",
      "   -- ------------------------------------- 2.0/38.1 MB 7.7 MB/s eta 0:00:05\n",
      "   -- ------------------------------------- 2.5/38.1 MB 8.3 MB/s eta 0:00:05\n",
      "   --- ------------------------------------ 3.2/38.1 MB 8.9 MB/s eta 0:00:04\n",
      "   --- ------------------------------------ 3.8/38.1 MB 9.3 MB/s eta 0:00:04\n",
      "   ---- ----------------------------------- 4.4/38.1 MB 9.6 MB/s eta 0:00:04\n",
      "   ----- ---------------------------------- 4.9/38.1 MB 9.7 MB/s eta 0:00:04\n",
      "   ----- ---------------------------------- 5.5/38.1 MB 10.1 MB/s eta 0:00:04\n",
      "   ------ --------------------------------- 6.1/38.1 MB 10.3 MB/s eta 0:00:04\n",
      "   ------- -------------------------------- 6.7/38.1 MB 10.4 MB/s eta 0:00:04\n",
      "   ------- -------------------------------- 7.2/38.1 MB 10.5 MB/s eta 0:00:03\n",
      "   -------- ------------------------------- 7.8/38.1 MB 10.7 MB/s eta 0:00:03\n",
      "   -------- ------------------------------- 8.4/38.1 MB 10.8 MB/s eta 0:00:03\n",
      "   --------- ------------------------------ 9.0/38.1 MB 10.8 MB/s eta 0:00:03\n",
      "   ---------- ----------------------------- 9.8/38.1 MB 11.0 MB/s eta 0:00:03\n",
      "   ---------- ----------------------------- 10.4/38.1 MB 11.9 MB/s eta 0:00:03\n",
      "   ----------- ---------------------------- 10.7/38.1 MB 12.4 MB/s eta 0:00:03\n",
      "   ------------ --------------------------- 11.5/38.1 MB 12.8 MB/s eta 0:00:03\n",
      "   ------------ --------------------------- 12.2/38.1 MB 12.6 MB/s eta 0:00:03\n",
      "   ------------- -------------------------- 12.8/38.1 MB 13.1 MB/s eta 0:00:02\n",
      "   -------------- ------------------------- 13.4/38.1 MB 12.6 MB/s eta 0:00:02\n",
      "   -------------- ------------------------- 14.0/38.1 MB 12.8 MB/s eta 0:00:02\n",
      "   --------------- ------------------------ 14.5/38.1 MB 12.6 MB/s eta 0:00:02\n",
      "   --------------- ------------------------ 14.9/38.1 MB 12.6 MB/s eta 0:00:02\n",
      "   ---------------- ----------------------- 15.9/38.1 MB 12.8 MB/s eta 0:00:02\n",
      "   ----------------- ---------------------- 16.5/38.1 MB 12.6 MB/s eta 0:00:02\n",
      "   ------------------ --------------------- 17.3/38.1 MB 12.9 MB/s eta 0:00:02\n",
      "   ------------------ --------------------- 18.1/38.1 MB 12.8 MB/s eta 0:00:02\n",
      "   ------------------- -------------------- 18.7/38.1 MB 13.1 MB/s eta 0:00:02\n",
      "   -------------------- ------------------- 19.1/38.1 MB 12.8 MB/s eta 0:00:02\n",
      "   -------------------- ------------------- 19.8/38.1 MB 12.6 MB/s eta 0:00:02\n",
      "   --------------------- ------------------ 20.3/38.1 MB 12.6 MB/s eta 0:00:02\n",
      "   ---------------------- ----------------- 21.1/38.1 MB 12.6 MB/s eta 0:00:02\n",
      "   ----------------------- ---------------- 22.4/38.1 MB 12.6 MB/s eta 0:00:02\n",
      "   ------------------------ --------------- 22.9/38.1 MB 12.6 MB/s eta 0:00:02\n",
      "   ------------------------ --------------- 23.6/38.1 MB 12.6 MB/s eta 0:00:02\n",
      "   ------------------------- -------------- 24.1/38.1 MB 12.6 MB/s eta 0:00:02\n",
      "   ------------------------- -------------- 24.5/38.1 MB 12.6 MB/s eta 0:00:02\n",
      "   -------------------------- ------------- 25.3/38.1 MB 13.1 MB/s eta 0:00:01\n",
      "   --------------------------- ------------ 25.9/38.1 MB 12.6 MB/s eta 0:00:01\n",
      "   --------------------------- ------------ 26.5/38.1 MB 12.6 MB/s eta 0:00:01\n",
      "   ---------------------------- ----------- 27.3/38.1 MB 12.6 MB/s eta 0:00:01\n",
      "   ----------------------------- ---------- 28.0/38.1 MB 12.6 MB/s eta 0:00:01\n",
      "   ------------------------------ --------- 28.8/38.1 MB 12.6 MB/s eta 0:00:01\n",
      "   ------------------------------ --------- 29.4/38.1 MB 12.8 MB/s eta 0:00:01\n",
      "   ------------------------------- -------- 30.1/38.1 MB 12.8 MB/s eta 0:00:01\n",
      "   -------------------------------- ------- 30.9/38.1 MB 13.4 MB/s eta 0:00:01\n",
      "   --------------------------------- ------ 31.4/38.1 MB 13.9 MB/s eta 0:00:01\n",
      "   --------------------------------- ------ 32.1/38.1 MB 13.1 MB/s eta 0:00:01\n",
      "   ---------------------------------- ----- 32.8/38.1 MB 12.6 MB/s eta 0:00:01\n",
      "   ----------------------------------- ---- 33.5/38.1 MB 12.8 MB/s eta 0:00:01\n",
      "   ----------------------------------- ---- 34.1/38.1 MB 12.8 MB/s eta 0:00:01\n",
      "   ------------------------------------ --- 34.7/38.1 MB 12.9 MB/s eta 0:00:01\n",
      "   ------------------------------------- -- 35.2/38.1 MB 12.8 MB/s eta 0:00:01\n",
      "   ------------------------------------- -- 35.8/38.1 MB 12.8 MB/s eta 0:00:01\n",
      "   -------------------------------------- - 36.4/38.1 MB 12.6 MB/s eta 0:00:01\n",
      "   -------------------------------------- - 37.0/38.1 MB 12.6 MB/s eta 0:00:01\n",
      "   ---------------------------------------  37.4/38.1 MB 12.6 MB/s eta 0:00:01\n",
      "   ---------------------------------------  38.0/38.1 MB 12.8 MB/s eta 0:00:01\n",
      "   ---------------------------------------  38.1/38.1 MB 12.4 MB/s eta 0:00:01\n",
      "   ---------------------------------------  38.1/38.1 MB 12.4 MB/s eta 0:00:01\n",
      "   ---------------------------------------  38.1/38.1 MB 12.4 MB/s eta 0:00:01\n",
      "   ---------------------------------------  38.1/38.1 MB 12.4 MB/s eta 0:00:01\n",
      "   ---------------------------------------- 38.1/38.1 MB 9.6 MB/s eta 0:00:00\n",
      "Installing collected packages: opencv-python\n",
      "Note: you may need to restart the kernel to use updated packages.\n"
     ]
    },
    {
     "name": "stderr",
     "output_type": "stream",
     "text": [
      "ERROR: Could not install packages due to an OSError: [WinError 5] Access is denied: 'C:\\\\Users\\\\Lenovo\\\\anaconda3\\\\envs\\\\Project\\\\Lib\\\\site-packages\\\\cv2\\\\cv2.pyd'\n",
      "Consider using the `--user` option or check the permissions.\n",
      "\n"
     ]
    }
   ],
   "source": [
    "pip install opencv-python\n"
   ]
  },
  {
   "cell_type": "code",
   "execution_count": null,
   "id": "1ec9d469-94d7-4f02-b39a-10dc7f18cd0f",
   "metadata": {},
   "outputs": [],
   "source": []
  },
  {
   "cell_type": "code",
   "execution_count": null,
   "id": "960c5612-5e35-4396-88c5-54cabd8fc26c",
   "metadata": {},
   "outputs": [],
   "source": []
  }
 ],
 "metadata": {
  "kernelspec": {
   "display_name": "Python 3 (ipykernel)",
   "language": "python",
   "name": "python3"
  },
  "language_info": {
   "codemirror_mode": {
    "name": "ipython",
    "version": 3
   },
   "file_extension": ".py",
   "mimetype": "text/x-python",
   "name": "python",
   "nbconvert_exporter": "python",
   "pygments_lexer": "ipython3",
   "version": "3.11.5"
  }
 },
 "nbformat": 4,
 "nbformat_minor": 5
}
